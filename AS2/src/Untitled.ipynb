{
 "cells": [
  {
   "cell_type": "code",
   "execution_count": 8,
   "metadata": {},
   "outputs": [],
   "source": [
    "import cv2 as cv\n",
    "import numpy as np\n",
    "import time"
   ]
  },
  {
   "cell_type": "code",
   "execution_count": 9,
   "metadata": {},
   "outputs": [],
   "source": [
    "def mouse_pos(event,x,y,flags,param):\n",
    "    global points\n",
    "    global gray, winName\n",
    "    if event == cv.EVENT_LBUTTONDOWN:\n",
    "        points.append([x, y])\n",
    "        cv.circle(gray,(x, y),2,(0,0,0))\n",
    "        cv.imshow(winName, gray)\n",
    "        cv.waitKey(1)\n",
    "\n",
    "def nothing(x):\n",
    "    pass\n",
    "\n",
    "def EnCal(i, lenPoints):\n",
    "    global points, d\n",
    "    En = np.zeros((9, 3))\n",
    "    g = 0\n",
    "    for j in [-1, 0, 1]:\n",
    "        for k in [-1, 0, 1]:\n",
    "            En_cont = [0] * lenPoints\n",
    "            En_cur = [0] * lenPoints\n",
    "            En_img = [0] * lenPoints\n",
    "            temp = points\n",
    "            temp[i][0] += j\n",
    "            temp[i][1] += k\n",
    "            En[g][0] = j\n",
    "            En[g][1] = k\n",
    "            for h in range(-1, lenPoints-1):\n",
    "                En_cont[h] += ((np.sqrt((temp[h+1][0] - temp[h][0])**2 + (temp[h+1][1] - temp[h][1])**2))**2)*alpha\n",
    "                En_cur[h] += ((temp[h+1][0] - 2*(temp[h][0]) + temp[h-1][0])**2 + (temp[h+1][1] - 2*(temp[h][1]) + temp[h-1][1])**2)*beta\n",
    "                En_img[h] += (gradient[temp[h][1]][temp[h][0]]**2)*gamma\n",
    "            En[g][2] = sum(En_cont) + sum(En_cur) - sum(En_img)\n",
    "            g += 1\n",
    "    return En"
   ]
  },
  {
   "cell_type": "code",
   "execution_count": 10,
   "metadata": {
    "scrolled": true
   },
   "outputs": [
    {
     "name": "stdout",
     "output_type": "stream",
     "text": [
      "0.001\n"
     ]
    },
    {
     "ename": "KeyboardInterrupt",
     "evalue": "",
     "output_type": "error",
     "traceback": [
      "\u001b[1;31m---------------------------------------------------------------------------\u001b[0m",
      "\u001b[1;31mKeyboardInterrupt\u001b[0m                         Traceback (most recent call last)",
      "\u001b[1;32m<ipython-input-10-94e4ee847e20>\u001b[0m in \u001b[0;36m<module>\u001b[1;34m\u001b[0m\n\u001b[0;32m     14\u001b[0m     \u001b[0mgradient\u001b[0m \u001b[1;33m=\u001b[0m \u001b[0mcv\u001b[0m\u001b[1;33m.\u001b[0m\u001b[0mSobel\u001b[0m\u001b[1;33m(\u001b[0m\u001b[0mbinary\u001b[0m\u001b[1;33m,\u001b[0m\u001b[0mcv\u001b[0m\u001b[1;33m.\u001b[0m\u001b[0mCV_64F\u001b[0m\u001b[1;33m,\u001b[0m\u001b[1;36m1\u001b[0m\u001b[1;33m,\u001b[0m\u001b[1;36m0\u001b[0m\u001b[1;33m,\u001b[0m\u001b[0mksize\u001b[0m\u001b[1;33m=\u001b[0m\u001b[1;36m3\u001b[0m\u001b[1;33m)\u001b[0m\u001b[1;33m\u001b[0m\u001b[1;33m\u001b[0m\u001b[0m\n\u001b[0;32m     15\u001b[0m     \u001b[0mcv\u001b[0m\u001b[1;33m.\u001b[0m\u001b[0mimshow\u001b[0m\u001b[1;33m(\u001b[0m\u001b[0mwinName\u001b[0m\u001b[1;33m,\u001b[0m \u001b[0mgray\u001b[0m\u001b[1;33m)\u001b[0m\u001b[1;33m\u001b[0m\u001b[1;33m\u001b[0m\u001b[0m\n\u001b[1;32m---> 16\u001b[1;33m     \u001b[0mKEY\u001b[0m \u001b[1;33m=\u001b[0m \u001b[0mcv\u001b[0m\u001b[1;33m.\u001b[0m\u001b[0mwaitKey\u001b[0m\u001b[1;33m(\u001b[0m\u001b[1;36m0\u001b[0m\u001b[1;33m)\u001b[0m\u001b[1;33m\u001b[0m\u001b[1;33m\u001b[0m\u001b[0m\n\u001b[0m\u001b[0;32m     17\u001b[0m     \u001b[1;32mif\u001b[0m \u001b[0mKEY\u001b[0m \u001b[1;33m==\u001b[0m \u001b[0mord\u001b[0m\u001b[1;33m(\u001b[0m\u001b[1;34m's'\u001b[0m\u001b[1;33m)\u001b[0m\u001b[1;33m:\u001b[0m\u001b[1;33m\u001b[0m\u001b[1;33m\u001b[0m\u001b[0m\n\u001b[0;32m     18\u001b[0m         \u001b[0malpha\u001b[0m \u001b[1;33m=\u001b[0m \u001b[0mcv\u001b[0m\u001b[1;33m.\u001b[0m\u001b[0mgetTrackbarPos\u001b[0m\u001b[1;33m(\u001b[0m\u001b[1;34m\"Alpha\"\u001b[0m\u001b[1;33m,\u001b[0m \u001b[0mwinName\u001b[0m\u001b[1;33m)\u001b[0m \u001b[1;33m/\u001b[0m \u001b[1;36m10\u001b[0m\u001b[1;33m\u001b[0m\u001b[1;33m\u001b[0m\u001b[0m\n",
      "\u001b[1;31mKeyboardInterrupt\u001b[0m: "
     ]
    }
   ],
   "source": [
    "winName = \"Image\"\n",
    "points = list()\n",
    "image = cv.imread(\"noise.jpg\")\n",
    "gray = cv.cvtColor(image, cv.COLOR_RGB2GRAY)\n",
    "ret, binary = cv.threshold(gray,127,255,cv.THRESH_BINARY)\n",
    "cv.namedWindow(winName)\n",
    "cv.setMouseCallback(winName,mouse_pos)\n",
    "cv.createTrackbar(\"Alpha\", winName, 0, 10, nothing)\n",
    "cv.createTrackbar(\"Beta\", winName, 0, 10, nothing)\n",
    "cv.createTrackbar(\"Gamma\", winName, 0, 10, nothing)\n",
    "cv.createTrackbar(\"Iteration\", winName, 0, 300, nothing)\n",
    "cv.createTrackbar(\"Delay(ms)\", winName, 1, 1000, nothing)\n",
    "while(1):\n",
    "    gradient = cv.Sobel(binary,cv.CV_64F,1,0,ksize=3)\n",
    "    cv.imshow(winName, gray)\n",
    "    KEY = cv.waitKey(0)\n",
    "    if KEY == ord('s'):        \n",
    "        alpha = cv.getTrackbarPos(\"Alpha\", winName) / 10\n",
    "        beta = cv.getTrackbarPos(\"Beta\", winName) / 10\n",
    "        gamma = cv.getTrackbarPos(\"Gamma\", winName) / 10\n",
    "        delay = cv.getTrackbarPos(\"Delay(ms)\", winName) / 1000\n",
    "        print(delay)\n",
    "        ite = cv.getTrackbarPos(\"Iteration\", winName)\n",
    "        for iteration in range(ite):\n",
    "            if len(points) == 0:\n",
    "                print(\"Please select points first\")\n",
    "                break\n",
    "            E = 0\n",
    "            Econt = [0] * len(points)\n",
    "            Ecur = [0] * len(points)\n",
    "            Eimg = [0] * len(points)\n",
    "            En = np.zeros((9, 3))\n",
    "            gray = cv.cvtColor(image, cv.COLOR_RGB2GRAY)\n",
    "            for i in range(-1, len(points)-1):\n",
    "                cv.line(gray,(points[i][0], points[i][1]),(points[i+1][0], points[i+1][1]),(0,155,0),2)\n",
    "                if delay == 0:\n",
    "                    pass\n",
    "                else:\n",
    "                    time.sleep(delay)\n",
    "            cv.imshow(winName, gray)\n",
    "            KEY = cv.waitKey(1)\n",
    "            t = 0\n",
    "            for i in range(-1, len(points)-1):\n",
    "                t += np.sqrt((points[i+1][0] - points[i][0])**2 + (points[i+1][1] - points[i][1])**2)\n",
    "            d = t/len(points)\n",
    "            for i in range(-1, len(points)-1):\n",
    "                Econt[i] += ((np.sqrt((points[i+1][0] - points[i][0])**2 + (points[i+1][1] - points[i][1])**2))**2)*alpha\n",
    "                Ecur[i] += ((points[i+1][0] - 2*points[i][0] + points[i-1][0])**2 + (points[i+1][1] - 2*points[i][1] + points[i-1][1])**2)*beta\n",
    "                Eimg[i] += (gradient[points[i][1]][points[i][0]]**2)*gamma\n",
    "            E = sum(Econt) + sum(Ecur) - sum(Eimg) \n",
    "            for i in range(-1, len(points)-1):\n",
    "                En = EnCal(i, len(points))\n",
    "                En = En[np.argsort(En[:,2])]\n",
    "                if En[0][2] < E:\n",
    "                    points[i][0] += int(En[0][0])\n",
    "                    points[i][1]+= int(En[0][1])\n",
    "        if KEY == ord('h'):\n",
    "            print(\"Select desired point by mouse and press 's' when you are finished to start the active contour algorithm\")\n",
    "        if KEY == ord('q'):\n",
    "            break\n",
    "    if KEY == ord('h'):\n",
    "        print(\"Select desired point by mouse and press 's' when you are finished to start the active contour algorithm\")\n",
    "    if KEY == ord('q'):\n",
    "        break\n",
    "cv.destroyAllWindows()"
   ]
  },
  {
   "cell_type": "code",
   "execution_count": null,
   "metadata": {},
   "outputs": [],
   "source": []
  },
  {
   "cell_type": "code",
   "execution_count": null,
   "metadata": {},
   "outputs": [],
   "source": []
  }
 ],
 "metadata": {
  "kernelspec": {
   "display_name": "Python 3",
   "language": "python",
   "name": "python3"
  },
  "language_info": {
   "codemirror_mode": {
    "name": "ipython",
    "version": 3
   },
   "file_extension": ".py",
   "mimetype": "text/x-python",
   "name": "python",
   "nbconvert_exporter": "python",
   "pygments_lexer": "ipython3",
   "version": "3.6.8"
  }
 },
 "nbformat": 4,
 "nbformat_minor": 2
}
