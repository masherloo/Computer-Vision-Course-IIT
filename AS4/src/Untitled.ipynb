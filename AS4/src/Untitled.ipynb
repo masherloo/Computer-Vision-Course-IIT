{
 "cells": [
  {
   "cell_type": "code",
   "execution_count": 20,
   "metadata": {
    "ExecuteTime": {
     "end_time": "2020-11-30T00:57:28.995483Z",
     "start_time": "2020-11-30T00:57:23.510615Z"
    }
   },
   "outputs": [],
   "source": [
    "import argparse\n",
    "import cv2\n",
    "import numpy as np\n",
    "import os\n",
    "import glob\n",
    "import pandas as pd\n",
    "import scipy.linalg as sp\n",
    "from sklearn.metrics import mean_squared_error\n",
    "import sys\n",
    "pd.set_option('precision', 4)\n",
    "\n",
    "def mouse_click(event, x, y, flags, param):\n",
    "    global mouse_point, img\n",
    "    if event == cv2.EVENT_LBUTTONDOWN:\n",
    "        cv2.circle(img,(x,y),4,(255,255,255),-1)\n",
    "        cv2.imshow('img',img)\n",
    "        mouse_point.append([x, y])"
   ]
  },
  {
   "cell_type": "code",
   "execution_count": 14,
   "metadata": {
    "ExecuteTime": {
     "end_time": "2020-11-30T00:45:53.270912Z",
     "start_time": "2020-11-30T00:45:36.193448Z"
    },
    "scrolled": false
   },
   "outputs": [],
   "source": [
    "if len(sys.argv) == 2:\n",
    "    filename = sys.argv[1]\n",
    "    if filename == 'test_points.txt':\n",
    "        pass\n",
    "    else:\n",
    "        objpoints = [[0,0,0],[5,0,0],[10,0,0],[10,0,3],[10,5,3],[10,10,3],[5,10,3],[0,10,3],[0,5,3],[0,0,3],[0,5,0],[0,10,0]]\n",
    "        imgpoints = []\n",
    "        cv2.namedWindow('img')\n",
    "        mouse_point = []\n",
    "        img = cv2.imread('test.jpg')\n",
    "        gray = cv2.cvtColor(img,cv2.COLOR_BGR2GRAY)\n",
    "        cv2.imshow('img',img)\n",
    "        cv2.setMouseCallback(\"img\", mouse_click)\n",
    "        h = cv2.waitKey(0)\n",
    "        if h == ord('q'):\n",
    "            with open(\"points.txt\", 'w') as file:\n",
    "                for i in range(len(mouse_point)):\n",
    "                    s = \" \".join(map(str, objpoints[i])) + \" \" + \" \".join(map(str, mouse_point[i]))[1:-1]\n",
    "                    file.write(s+'\\n')\n",
    "                    cv2.destroyAllWindows()"
   ]
  },
  {
   "cell_type": "code",
   "execution_count": 46,
   "metadata": {},
   "outputs": [],
   "source": [
    "points = pd.read_csv(\"test_points.txt\", delimiter='\\s+', header = None, dtype = float)\n",
    "objpoints_file = points[[0, 1, 2]]\n",
    "imgpoints_file = points[[3, 4]]\n",
    "A = np.zeros((objpoints_file.shape[0]*2, 12))\n",
    "j = 0\n",
    "for i in range(0, objpoints_file.shape[0]*2, 2):\n",
    "    A[i][0] = objpoints_file[0][j]\n",
    "    A[i][1] = objpoints_file[1][j]\n",
    "    A[i][2] = objpoints_file[2][j]\n",
    "    A[i][3] = 1\n",
    "    A[i][8] = objpoints_file[0][j] * -1 * imgpoints_file[3][j]\n",
    "    A[i][9] = objpoints_file[1][j] * -1 * imgpoints_file[3][j]\n",
    "    A[i][10] = objpoints_file[2][j] * -1 * imgpoints_file[3][j]\n",
    "    A[i][11] = 1 * -1 * imgpoints_file[3][j]\n",
    "    A[i+1][4] = objpoints_file[0][j]\n",
    "    A[i+1][5] = objpoints_file[1][j]\n",
    "    A[i+1][6] = objpoints_file[2][j]\n",
    "    A[i+1][7] = 1\n",
    "    A[i+1][8] = objpoints_file[0][j] * -1 * imgpoints_file[4][j]\n",
    "    A[i+1][9] = objpoints_file[1][j] * -1 * imgpoints_file[4][j]\n",
    "    A[i+1][10] = objpoints_file[2][j] * -1 * imgpoints_file[4][j]\n",
    "    A[i+1][11] = 1 * -1 * imgpoints_file[4][j]\n",
    "    j += 1\n",
    "u, d, v = np.linalg.svd(A)\n",
    "x = np.transpose(v)[:,-1]\n",
    "M = x.reshape(3,4)"
   ]
  },
  {
   "cell_type": "code",
   "execution_count": 47,
   "metadata": {},
   "outputs": [],
   "source": [
    "a1 = M[0][0:3].reshape(3,1)\n",
    "a2 = M[1][0:3].reshape(3,1)\n",
    "a3 = M[2][0:3].reshape(3,1)\n",
    "b = M[:, -1]\n",
    "\n",
    "rho_abs = 1/(np.sqrt(a3[0]**2+a3[1]**2+a3[2]**2))\n",
    "U0 = rho_abs**2 * (np.dot(np.squeeze(np.asarray(a1)),np.squeeze(np.asarray(a3))))\n",
    "V0 = rho_abs**2 * (np.dot(np.squeeze(np.asarray(a2)),np.squeeze(np.asarray(a3))))\n",
    "alpha_v = np.sqrt((rho_abs**2 * (np.dot(np.squeeze(np.asarray(a2)),np.squeeze(np.asarray(a2))))) - V0**2)\n",
    "\n",
    "s = (1/alpha_v) * rho_abs**4 * (np.dot(np.squeeze(np.asarray(np.cross(a1,a3,axis=0))),np.squeeze(np.asarray(np.cross(a2,a3,axis=0)))))\n",
    "\n",
    "rho_sign = np.sign(b[2])\n",
    "\n",
    "alpha_u = np.sqrt((rho_abs**2 * (np.dot(np.squeeze(np.asarray(a1)),np.squeeze(np.asarray(a1))))) - s**2 - U0**2)\n",
    "\n",
    "kstar = np.zeros((3,3))\n",
    "kstar[0][0] = alpha_u; kstar[1][1] = alpha_v; kstar[0][1] = s; kstar[0][2] = U0; kstar[1][2] = V0; kstar[2][2] = 1;\n",
    "\n",
    "Tstar = rho_sign * rho_abs * (np.linalg.inv(kstar) @ b)\n",
    "r3 = rho_sign * rho_abs * a3\n",
    "r1 = rho_abs**2 / alpha_v * np.cross(a2,a3,axis=0)\n",
    "r2 = np.cross(r3, r1, axis = 0)\n",
    "Rstar = np.concatenate([r1,r2,r3]).T.reshape(3,3)\n",
    "\n",
    "M_computed = kstar @ np.concatenate([Rstar, Tstar.reshape(3,1)], axis = 1)"
   ]
  },
  {
   "cell_type": "code",
   "execution_count": 48,
   "metadata": {},
   "outputs": [
    {
     "name": "stderr",
     "output_type": "stream",
     "text": [
      "c:\\users\\mohammadreza\\appdata\\local\\programs\\python\\python36\\lib\\site-packages\\ipykernel_launcher.py:3: SettingWithCopyWarning: \n",
      "A value is trying to be set on a copy of a slice from a DataFrame.\n",
      "Try using .loc[row_indexer,col_indexer] = value instead\n",
      "\n",
      "See the caveats in the documentation: http://pandas.pydata.org/pandas-docs/stable/user_guide/indexing.html#returning-a-view-versus-a-copy\n",
      "  This is separate from the ipykernel package so we can avoid doing imports until\n"
     ]
    }
   ],
   "source": [
    "predicted_points = imgpoints_file.copy()\n",
    "predicted_points[2] = 1\n",
    "objpoints_file[3] = 1\n",
    "for i in range(predicted_points.shape[0]):\n",
    "    predict = M_computed @ np.array(objpoints_file.iloc[[i]]).reshape(4,1)\n",
    "    predicted_points.iloc[[i]] = predict.reshape(1,3) / predict[2]\n",
    "\n",
    "predicted_points = predicted_points.drop([2], axis = 1)\n",
    "rms = mean_squared_error(imgpoints_file, predicted_points)"
   ]
  },
  {
   "cell_type": "code",
   "execution_count": 50,
   "metadata": {},
   "outputs": [
    {
     "name": "stdout",
     "output_type": "stream",
     "text": [
      "T* = [-2.57709099e-04  3.26857535e-05  1.04880905e+03]\n",
      "\n",
      "R* = [[-7.68221190e-01  6.40184508e-01  1.46341836e-07]\n",
      " [ 4.27274298e-01  5.12729182e-01 -7.44678091e-01]\n",
      " [-4.76731452e-01 -5.72077427e-01 -6.67423808e-01]]\n",
      "\n",
      "K* = [[ 6.52174069e+02 -3.39862304e-05  3.20000170e+02]\n",
      " [ 0.00000000e+00  6.52174075e+02  2.39999971e+02]\n",
      " [ 0.00000000e+00  0.00000000e+00  1.00000000e+00]]\n",
      "\n",
      "(u0, v0) = (320.00, 240.00)\n",
      "\n",
      "(alpha_u, alpha_v) = (652.17, 652.17)\n",
      "\n",
      "MSE = 0.000000000830270531\n"
     ]
    }
   ],
   "source": [
    "print(\"T* = {}\".format(Tstar))\n",
    "print(\"\\nR* = {}\".format(Rstar))\n",
    "print(\"\\nK* = {}\".format(kstar))\n",
    "print(\"\\n(u0, v0) = ({:.2f}, {:.2f})\".format(U0[0], V0[0]))\n",
    "print(\"\\n(alpha_u, alpha_v) = ({:.2f}, {:.2f})\".format(alpha_u[0], alpha_v[0]))\n",
    "print(\"\\nMSE = {:.18f}\".format(mean_squared_error(imgpoints_file, predicted_points)))"
   ]
  },
  {
   "cell_type": "code",
   "execution_count": null,
   "metadata": {},
   "outputs": [],
   "source": []
  }
 ],
 "metadata": {
  "kernelspec": {
   "display_name": "Python 3",
   "language": "python",
   "name": "python3"
  },
  "language_info": {
   "codemirror_mode": {
    "name": "ipython",
    "version": 3
   },
   "file_extension": ".py",
   "mimetype": "text/x-python",
   "name": "python",
   "nbconvert_exporter": "python",
   "pygments_lexer": "ipython3",
   "version": "3.6.8"
  },
  "varInspector": {
   "cols": {
    "lenName": 16,
    "lenType": 16,
    "lenVar": 40
   },
   "kernels_config": {
    "python": {
     "delete_cmd_postfix": "",
     "delete_cmd_prefix": "del ",
     "library": "var_list.py",
     "varRefreshCmd": "print(var_dic_list())"
    },
    "r": {
     "delete_cmd_postfix": ") ",
     "delete_cmd_prefix": "rm(",
     "library": "var_list.r",
     "varRefreshCmd": "cat(var_dic_list()) "
    }
   },
   "types_to_exclude": [
    "module",
    "function",
    "builtin_function_or_method",
    "instance",
    "_Feature"
   ],
   "window_display": false
  }
 },
 "nbformat": 4,
 "nbformat_minor": 4
}
