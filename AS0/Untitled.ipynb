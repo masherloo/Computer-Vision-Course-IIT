{
 "cells": [
  {
   "cell_type": "markdown",
   "metadata": {},
   "source": [
    "# Mohammadreza Asherloo\n",
    "## A20453525\n",
    "### CS 512 - Fall 2020"
   ]
  },
  {
   "cell_type": "code",
   "execution_count": 1,
   "metadata": {},
   "outputs": [],
   "source": [
    "import numpy as np"
   ]
  },
  {
   "cell_type": "markdown",
   "metadata": {},
   "source": [
    "## A"
   ]
  },
  {
   "cell_type": "code",
   "execution_count": 71,
   "metadata": {},
   "outputs": [],
   "source": [
    "A = np.array([[1], [2], [3]])\n",
    "B = np.array([[4], [5], [6]])\n",
    "C = np.array([[-1], [1], [3]])\n",
    "X = np.array([[1], [0], [0]])"
   ]
  },
  {
   "cell_type": "markdown",
   "metadata": {},
   "source": [
    "### A-1"
   ]
  },
  {
   "cell_type": "code",
   "execution_count": 22,
   "metadata": {},
   "outputs": [
    {
     "name": "stdout",
     "output_type": "stream",
     "text": [
      "Q1: [[ 6]\n",
      " [ 9]\n",
      " [12]]\n"
     ]
    }
   ],
   "source": [
    "print(\"Q1: {}\".format(2*A + B))"
   ]
  },
  {
   "cell_type": "markdown",
   "metadata": {},
   "source": [
    "### A-2"
   ]
  },
  {
   "cell_type": "code",
   "execution_count": 23,
   "metadata": {},
   "outputs": [
    {
     "name": "stdout",
     "output_type": "stream",
     "text": [
      "Q2a: 3.7416573867739413\n"
     ]
    }
   ],
   "source": [
    "print(\"Q2a: {}\".format(np.linalg.norm(A)))"
   ]
  },
  {
   "cell_type": "code",
   "execution_count": 36,
   "metadata": {},
   "outputs": [
    {
     "name": "stdout",
     "output_type": "stream",
     "text": [
      "Q2b: [74.49864043]\n"
     ]
    }
   ],
   "source": [
    "print(\"Q2b: {}\".format(np.rad2deg(np.arccos(sum(A*X)/(np.linalg.norm(A)*np.linalg.norm(X))))))"
   ]
  },
  {
   "cell_type": "markdown",
   "metadata": {},
   "source": [
    "### A-3"
   ]
  },
  {
   "cell_type": "code",
   "execution_count": 37,
   "metadata": {},
   "outputs": [
    {
     "name": "stdout",
     "output_type": "stream",
     "text": [
      "Q3: [[0.26726124]\n",
      " [0.53452248]\n",
      " [0.80178373]]\n"
     ]
    }
   ],
   "source": [
    "print(\"Q3: {}\".format(A/np.linalg.norm(A)))"
   ]
  },
  {
   "cell_type": "markdown",
   "metadata": {},
   "source": [
    "### A-4"
   ]
  },
  {
   "cell_type": "code",
   "execution_count": 38,
   "metadata": {},
   "outputs": [
    {
     "name": "stdout",
     "output_type": "stream",
     "text": [
      "Q4: cosine alpha = [0.26726124]\n"
     ]
    }
   ],
   "source": [
    "print(\"Q4: cosine alpha = {}\".format(A[0]/np.linalg.norm(A)))"
   ]
  },
  {
   "cell_type": "code",
   "execution_count": 39,
   "metadata": {},
   "outputs": [
    {
     "name": "stdout",
     "output_type": "stream",
     "text": [
      "Q4: cosine beta = [0.53452248]\n"
     ]
    }
   ],
   "source": [
    "print(\"Q4: cosine beta = {}\".format(A[1]/np.linalg.norm(A)))"
   ]
  },
  {
   "cell_type": "code",
   "execution_count": 40,
   "metadata": {},
   "outputs": [
    {
     "name": "stdout",
     "output_type": "stream",
     "text": [
      "Q4: cosine gamma = [0.80178373]\n"
     ]
    }
   ],
   "source": [
    "print(\"Q4: cosine gamma = {}\".format(A[2]/np.linalg.norm(A)))"
   ]
  },
  {
   "cell_type": "markdown",
   "metadata": {},
   "source": [
    "### A-5"
   ]
  },
  {
   "cell_type": "code",
   "execution_count": 45,
   "metadata": {},
   "outputs": [
    {
     "name": "stdout",
     "output_type": "stream",
     "text": [
      "Q4: A.B = 32\n",
      "Q4: B.A = 32\n"
     ]
    }
   ],
   "source": [
    "print(\"Q4: A.B = {}\".format(np.dot(np.squeeze(A),np.squeeze(B))))\n",
    "print(\"Q4: B.A = {}\".format(np.dot(np.squeeze(B),np.squeeze(A))))"
   ]
  },
  {
   "cell_type": "markdown",
   "metadata": {},
   "source": [
    "### A-6"
   ]
  },
  {
   "cell_type": "code",
   "execution_count": 46,
   "metadata": {},
   "outputs": [
    {
     "name": "stdout",
     "output_type": "stream",
     "text": [
      "Q6: [12.93315449]\n"
     ]
    }
   ],
   "source": [
    "print(\"Q6: {}\".format(np.rad2deg(np.arccos(sum(A*B)/(np.linalg.norm(A)*np.linalg.norm(B))))))"
   ]
  },
  {
   "cell_type": "markdown",
   "metadata": {},
   "source": [
    "### A-7"
   ]
  },
  {
   "cell_type": "code",
   "execution_count": 63,
   "metadata": {},
   "outputs": [
    {
     "name": "stdout",
     "output_type": "stream",
     "text": [
      "Q7: [-0.83019923 -0.29470259  0.47320147]\n"
     ]
    }
   ],
   "source": [
    "V = np.random.randn(3,)\n",
    "V -= V.dot(A) * A / np.linalg.norm(A)**2\n",
    "V /= np.linalg.norm(V)\n",
    "print(\"Q7: {}\".format(V))"
   ]
  },
  {
   "cell_type": "markdown",
   "metadata": {},
   "source": [
    "### A-8"
   ]
  },
  {
   "cell_type": "code",
   "execution_count": 82,
   "metadata": {},
   "outputs": [
    {
     "name": "stdout",
     "output_type": "stream",
     "text": [
      "Q8: AxB = [-3  6 -3]\n",
      "Q8: BxA = [ 3 -6  3]\n"
     ]
    }
   ],
   "source": [
    "print(\"Q8: AxB = {}\".format(np.cross(np.squeeze(A),np.squeeze(B))))\n",
    "print(\"Q8: BxA = {}\".format(np.cross(np.squeeze(B),np.squeeze(A))))"
   ]
  },
  {
   "cell_type": "markdown",
   "metadata": {},
   "source": [
    "### A-9"
   ]
  },
  {
   "cell_type": "code",
   "execution_count": 81,
   "metadata": {},
   "outputs": [
    {
     "name": "stdout",
     "output_type": "stream",
     "text": [
      "Q9: [-3  6 -3]\n"
     ]
    }
   ],
   "source": [
    "print(\"Q9: {}\".format(np.cross(np.squeeze(A),np.squeeze(B))))"
   ]
  },
  {
   "cell_type": "markdown",
   "metadata": {},
   "source": [
    "### A-11"
   ]
  },
  {
   "cell_type": "code",
   "execution_count": 105,
   "metadata": {},
   "outputs": [
    {
     "name": "stdout",
     "output_type": "stream",
     "text": [
      "Q11: ATxB = [-3  6 -3]\n",
      "Q11: BTxA = [ 3 -6  3]\n"
     ]
    }
   ],
   "source": [
    "print(\"Q11: ATxB = {}\".format(np.cross(np.squeeze(A).T,np.squeeze(B))))\n",
    "print(\"Q11: BTxA = {}\".format(np.cross(np.squeeze(B).T,np.squeeze(A))))\n"
   ]
  },
  {
   "cell_type": "code",
   "execution_count": 103,
   "metadata": {},
   "outputs": [
    {
     "data": {
      "text/plain": [
       "array([[-0.19127699, -0.90453403, -0.58542588],\n",
       "       [-0.51379691,  0.30151134,  0.10897156],\n",
       "       [-0.83631683,  0.30151134,  0.803369  ]])"
      ]
     },
     "execution_count": 103,
     "metadata": {},
     "output_type": "execute_result"
    }
   ],
   "source": [
    "V"
   ]
  },
  {
   "cell_type": "code",
   "execution_count": null,
   "metadata": {},
   "outputs": [],
   "source": []
  }
 ],
 "metadata": {
  "kernelspec": {
   "display_name": "Python 3",
   "language": "python",
   "name": "python3"
  },
  "language_info": {
   "codemirror_mode": {
    "name": "ipython",
    "version": 3
   },
   "file_extension": ".py",
   "mimetype": "text/x-python",
   "name": "python",
   "nbconvert_exporter": "python",
   "pygments_lexer": "ipython3",
   "version": "3.6.8"
  }
 },
 "nbformat": 4,
 "nbformat_minor": 2
}
