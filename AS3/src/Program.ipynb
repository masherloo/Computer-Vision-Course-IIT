{
  "nbformat": 4,
  "nbformat_minor": 0,
  "metadata": {
    "colab": {
      "name": "Untitled1.ipynb",
      "provenance": []
    },
    "kernelspec": {
      "name": "python3",
      "display_name": "Python 3"
    }
  },
  "cells": [
    {
      "cell_type": "code",
      "metadata": {
        "id": "Z4AF4rYTQ56e"
      },
      "source": [
        "import cv2 as cv\n",
        "import numpy as np\n",
        "from google.colab.patches import cv2_imshow\n",
        "import keras\n",
        "from keras.models import load_model"
      ],
      "execution_count": null,
      "outputs": []
    },
    {
      "cell_type": "code",
      "metadata": {
        "id": "rqZ9Rfy0Q7No"
      },
      "source": [
        "points = list()\n",
        "image = cv.imread(\"test.png\")\n",
        "gray = cv.cvtColor(image, cv.COLOR_RGB2GRAY)\n",
        "ret, binary = cv.threshold(gray,127,255,cv.THRESH_BINARY)\n",
        "binary_resized = cv.resize(binary, (28, 28))\n",
        "cv.imshow(\"Binary Image\", binary)\n",
        "cv.imshow(\"Original Image\", image)\n",
        "cv.waitKey()\n",
        "cv.destroyAllWindows()"
      ],
      "execution_count": null,
      "outputs": []
    },
    {
      "cell_type": "code",
      "metadata": {
        "id": "C9DSL4GFQ_Ee"
      },
      "source": [
        "model = load_model('Best_model.h5')\n",
        "\n",
        "model.summary()"
      ],
      "execution_count": null,
      "outputs": []
    },
    {
      "cell_type": "code",
      "metadata": {
        "id": "XbPF-7iWUiAe"
      },
      "source": [
        "binary_resized = binary_resized.reshape((1, 28, 28, 1))\n",
        "binary_resized = binary_resized.astype('float32') / 255"
      ],
      "execution_count": null,
      "outputs": []
    },
    {
      "cell_type": "code",
      "metadata": {
        "id": "VqS95Ka6VzZs",
        "outputId": "267b7658-f08e-4a47-eaac-063d565504b4",
        "colab": {
          "base_uri": "https://localhost:8080/"
        }
      },
      "source": [
        "ynew = model.predict_classes(binary_resized)\n",
        "\n",
        "if ynew == 1:\n",
        "  print(\"This is an even number\")\n",
        "else:\n",
        "  print(\"This is an odd number\")"
      ],
      "execution_count": null,
      "outputs": [
        {
          "output_type": "stream",
          "text": [
            "This is an odd number\n"
          ],
          "name": "stdout"
        }
      ]
    },
    {
      "cell_type": "code",
      "metadata": {
        "id": "mZQa43MeWQed"
      },
      "source": [
        ""
      ],
      "execution_count": null,
      "outputs": []
    }
  ]
}